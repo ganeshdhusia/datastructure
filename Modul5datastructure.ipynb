{
  "nbformat": 4,
  "nbformat_minor": 0,
  "metadata": {
    "colab": {
      "provenance": []
    },
    "kernelspec": {
      "name": "python3",
      "display_name": "Python 3"
    },
    "language_info": {
      "name": "python"
    }
  },
  "cells": [
    {
      "cell_type": "code",
      "execution_count": null,
      "metadata": {
        "colab": {
          "base_uri": "https://localhost:8080/"
        },
        "id": "lKXkRz7zujgG",
        "outputId": "2327c3bf-edd7-4484-8743-dee5b40538ab"
      },
      "outputs": [
        {
          "output_type": "stream",
          "name": "stdout",
          "text": [
            "I LOVE MY INDIA\n",
            "I LOVE \n",
            "I LOVE MY INDIA\n",
            "AIDNI YM EVOL I\n"
          ]
        }
      ],
      "source": [
        "s=\"I LOVE MY INDIA\"\n",
        "print(s)\n",
        "print(s[0:7])\n",
        "print(s[0:])\n",
        "print(s[::-1])\n",
        "#String slicing- we can access the charecter or part of string by specifying start and end index."
      ]
    },
    {
      "cell_type": "code",
      "source": [
        "# key features of list.\n",
        "#1- List is mutable and ordered datatype, 2-we can access its elements by using an index.3- we can change/update/modify its elements.4-Lists can contain any arbitrary objects.\n",
        "# we can access its elements with help of index.\n",
        "l=[1,2,3,2.5,'ajay','kumar']\n",
        "print(l[3])\n",
        "#modify elements\n",
        "a=[1,2,3,2.5,'ajay','kumar']\n",
        "a.append('ram')\n",
        "print(a)\n",
        "g=[1,2,3,2.5,'ajay','kumar']\n",
        "g.insert(3,45)\n",
        "print(g)\n",
        "q=[1,2,3,2.5,'ajay','kumar']\n",
        "del q[0]\n",
        "print(q)\n",
        "\n",
        "\n"
      ],
      "metadata": {
        "colab": {
          "base_uri": "https://localhost:8080/"
        },
        "id": "8PAEWT4SxFNU",
        "outputId": "a4ae212c-f7e1-4820-bb2c-f3f460646f17"
      },
      "execution_count": null,
      "outputs": [
        {
          "output_type": "stream",
          "name": "stdout",
          "text": [
            "2.5\n",
            "[1, 2, 3, 2.5, 'ajay', 'kumar', 'ram']\n",
            "[1, 2, 3, 45, 2.5, 'ajay', 'kumar']\n",
            "[2, 3, 2.5, 'ajay', 'kumar']\n"
          ]
        }
      ]
    },
    {
      "cell_type": "code",
      "source": [
        "# Q4-\n",
        "# List and Tuple are ordered collection of items, both can store heterogeneous datatypes, elements of tuple and list can be accessed with the help of index.\n",
        "#tuple is immutable and list is mutable.\n",
        "#List\n",
        "a=[1,2,3,2.5,'ajay','kumar']\n",
        "a.append('ram')\n",
        "print(a)\n",
        "g=[1,2,3,2.5,'ajay','kumar']\n",
        "g.insert(3,45)\n",
        "print(g)\n",
        "q=[1,2,3,2.5,'ajay','kumar']\n",
        "del q[0]\n",
        "print(q)\n",
        "#tuple\n",
        "c=(1,2,3,2.5,'ajay','kumar')\n",
        "c.append('shyam')\n",
        "# as it is immutable we can not update any element.\n",
        "\n"
      ],
      "metadata": {
        "colab": {
          "base_uri": "https://localhost:8080/",
          "height": 245
        },
        "id": "lbSIdfZQ1ZrU",
        "outputId": "4cb0691a-8f48-40bd-f5f0-7bf14a791fe8"
      },
      "execution_count": null,
      "outputs": [
        {
          "output_type": "stream",
          "name": "stdout",
          "text": [
            "[1, 2, 3, 2.5, 'ajay', 'kumar', 'ram']\n",
            "[1, 2, 3, 45, 2.5, 'ajay', 'kumar']\n",
            "[2, 3, 2.5, 'ajay', 'kumar']\n"
          ]
        },
        {
          "output_type": "error",
          "ename": "AttributeError",
          "evalue": "'tuple' object has no attribute 'append'",
          "traceback": [
            "\u001b[0;31m---------------------------------------------------------------------------\u001b[0m",
            "\u001b[0;31mAttributeError\u001b[0m                            Traceback (most recent call last)",
            "\u001b[0;32m<ipython-input-11-f33ecd3dfa06>\u001b[0m in \u001b[0;36m<cell line: 16>\u001b[0;34m()\u001b[0m\n\u001b[1;32m     14\u001b[0m \u001b[0;31m#tuple\u001b[0m\u001b[0;34m\u001b[0m\u001b[0;34m\u001b[0m\u001b[0m\n\u001b[1;32m     15\u001b[0m \u001b[0mc\u001b[0m\u001b[0;34m=\u001b[0m\u001b[0;34m(\u001b[0m\u001b[0;36m1\u001b[0m\u001b[0;34m,\u001b[0m\u001b[0;36m2\u001b[0m\u001b[0;34m,\u001b[0m\u001b[0;36m3\u001b[0m\u001b[0;34m,\u001b[0m\u001b[0;36m2.5\u001b[0m\u001b[0;34m,\u001b[0m\u001b[0;34m'ajay'\u001b[0m\u001b[0;34m,\u001b[0m\u001b[0;34m'kumar'\u001b[0m\u001b[0;34m)\u001b[0m\u001b[0;34m\u001b[0m\u001b[0;34m\u001b[0m\u001b[0m\n\u001b[0;32m---> 16\u001b[0;31m \u001b[0mc\u001b[0m\u001b[0;34m.\u001b[0m\u001b[0mappend\u001b[0m\u001b[0;34m(\u001b[0m\u001b[0;34m'shyam'\u001b[0m\u001b[0;34m)\u001b[0m\u001b[0;34m\u001b[0m\u001b[0;34m\u001b[0m\u001b[0m\n\u001b[0m\u001b[1;32m     17\u001b[0m \u001b[0;34m\u001b[0m\u001b[0m\n",
            "\u001b[0;31mAttributeError\u001b[0m: 'tuple' object has no attribute 'append'"
          ]
        }
      ]
    },
    {
      "cell_type": "code",
      "source": [
        " #Q5-SET\n",
        " # key features of set-1- set is unordered and unique collection of elements, it does not allow duplicate elements, we cant access elements with help of index.\n",
        " s={1,2,3,3,'ram','ram'}\n",
        " print(s)\n"
      ],
      "metadata": {
        "colab": {
          "base_uri": "https://localhost:8080/"
        },
        "id": "fcdNeXD8zXR2",
        "outputId": "16a02363-e508-4cb9-d52a-69de2f25f799"
      },
      "execution_count": null,
      "outputs": [
        {
          "output_type": "stream",
          "name": "stdout",
          "text": [
            "{1, 2, 3, 'ram'}\n"
          ]
        }
      ]
    },
    {
      "cell_type": "code",
      "source": [
        "#Q6 use case of tuple and sets in pythons\n",
        "# when we want data to be read only never want to change and it should be remain same and constant then we use tuple.\n",
        "#we use set when we want remove duplicate element from data stucture."
      ],
      "metadata": {
        "id": "xwj6OSgX5Kxh"
      },
      "execution_count": null,
      "outputs": []
    },
    {
      "cell_type": "code",
      "source": [
        "#Q7-\n",
        "d={\"name\":\"ram\",\"email-id\":\"ram@gmail.com\",\"age\":\"32\"}# to add elements\n",
        "d[\"address\"]=\"pune\"\n",
        "print(d)\n",
        "\n",
        "# to modify data\n",
        "d[\"name\"]=\"shyam\"\n",
        "print(d)\n",
        "\n",
        "#to delet\n",
        "del d [\"age\"]\n",
        "print(d)\n",
        "\n"
      ],
      "metadata": {
        "colab": {
          "base_uri": "https://localhost:8080/"
        },
        "id": "raF-1vu3C3hL",
        "outputId": "72c31832-5667-487c-f28b-59c6db0abe68"
      },
      "execution_count": 5,
      "outputs": [
        {
          "output_type": "stream",
          "name": "stdout",
          "text": [
            "{'name': 'ram', 'email-id': 'ram@gmail.com', 'age': '32', 'address': 'pune'}\n",
            "{'name': 'shyam', 'email-id': 'ram@gmail.com', 'age': '32', 'address': 'pune'}\n",
            "{'name': 'shyam', 'email-id': 'ram@gmail.com', 'address': 'pune'}\n"
          ]
        }
      ]
    },
    {
      "cell_type": "code",
      "source": [
        "#Q8-\n",
        "#Dictionary keys in Python must be immutable because dictionaries are designed to use hash-based lookups for efficient access.\n",
        "#The hash function used to index into the dictionary relies on the key being immutable, as any change to the key would alter its hash value, breaking the indexing mechanism."
      ],
      "metadata": {
        "id": "8zY-C55IEwO4"
      },
      "execution_count": null,
      "outputs": []
    },
    {
      "cell_type": "markdown",
      "source": [],
      "metadata": {
        "id": "bZEN838mvRRr"
      }
    }
  ]
}